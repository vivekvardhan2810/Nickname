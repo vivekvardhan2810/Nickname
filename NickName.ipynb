{
  "nbformat": 4,
  "nbformat_minor": 0,
  "metadata": {
    "colab": {
      "provenance": []
    },
    "kernelspec": {
      "name": "python3",
      "display_name": "Python 3"
    },
    "language_info": {
      "name": "python"
    }
  },
  "cells": [
    {
      "cell_type": "code",
      "source": [
        "import random\n",
        "\n",
        "def generate_nickname(hobbies, colors, movies):\n",
        "    # Combine user inputs\n",
        "    combined_inputs = hobbies + colors + movies\n",
        "\n",
        "    # Shuffle the combined inputs\n",
        "    random.shuffle(combined_inputs)\n",
        "\n",
        "    # Generate a nickname based on the shuffled inputs\n",
        "    nickname = \"_\".join(combined_inputs)\n",
        "\n",
        "    return nickname\n",
        "\n",
        "# Get user input for hobbies, colors, and movies\n",
        "hobbies = input(\"Enter your hobbies (comma-separated): \").split(',')\n",
        "colors = input(\"Enter your favorite colors (comma-separated): \").split(',')\n",
        "movies = input(\"Enter your favorite movies (comma-separated): \").split(',')\n",
        "\n",
        "# Generate and print the nickname\n",
        "nickname = generate_nickname(hobbies, colors, movies)\n",
        "print(\"Your suggested nickname is:\", nickname)"
      ],
      "metadata": {
        "colab": {
          "base_uri": "https://localhost:8080/"
        },
        "id": "BjYitCav4f8h",
        "outputId": "e87af66d-ac55-4362-a2bd-cfcd0beea9dc"
      },
      "execution_count": 19,
      "outputs": [
        {
          "output_type": "stream",
          "name": "stdout",
          "text": [
            "Enter your hobbies (comma-separated): Coding, movies\n",
            "Enter your favorite colors (comma-separated): Blue\n",
            "Enter your favorite movies (comma-separated): John Wick\n",
            "Your suggested nickname is: John Wick_Coding_ movies_Blue\n"
          ]
        }
      ]
    }
  ]
}